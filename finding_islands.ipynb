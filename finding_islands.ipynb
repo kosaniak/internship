{
 "cells": [
  {
   "cell_type": "code",
   "execution_count": 4,
   "id": "afce9681",
   "metadata": {},
   "outputs": [
    {
     "name": "stdout",
     "output_type": "stream",
     "text": [
      "Enter the number of rows:5\n",
      "Enter the number of columns:5\n",
      "Enter the entries in a single line (separated by space): \n",
      "1 0 0 0 1 1 0 0 1 1 0 0 0 1 0 0 0 1 0 1 1 0 0 0 1\n",
      "[[1 0 0 0 1]\n",
      " [1 0 0 1 1]\n",
      " [0 0 0 1 0]\n",
      " [0 0 1 0 1]\n",
      " [1 0 0 0 1]]\n",
      "Number of islands: 3\n"
     ]
    }
   ],
   "source": [
    "import numpy as np\n",
    "  \n",
    "R = int(input(\"Enter the number of rows:\"))\n",
    "C = int(input(\"Enter the number of columns:\"))\n",
    "  \n",
    "print(\"Enter the entries in a single line (separated by space): \")\n",
    "  \n",
    "entries = list(map(int, input().split()))\n",
    "  \n",
    "#For printing the matrix\n",
    "matrix = np.array(entries).reshape(R, C)\n",
    "print(matrix)\n",
    "\n",
    "#Checking valid cell\n",
    "def valid_cell(matrix, is_checked, row, col) :\n",
    "    rows_num = len(matrix)\n",
    "    cols_num = len(matrix[0])\n",
    "\n",
    "    if (row < 0 or row >= rows_num \n",
    "        or col < 0 or col >= cols_num\n",
    "        or is_checked[row][col] \n",
    "        or matrix[row][col] == 0) :\n",
    "        return False\n",
    "    return True\n",
    "\n",
    "#Finding island tree\n",
    "def search_island_tree(matrix, is_checked, row, col) :\n",
    "    rows_num = len(matrix)\n",
    "    cols_num = len(matrix[0])\n",
    " \n",
    "    is_checked[row][col] = True\n",
    " \n",
    "    for  i in range(-1, 2):\n",
    "        for  j in range(-1, 2):\n",
    "            is_valid_cell = valid_cell(matrix, is_checked, row+i, col+j)\n",
    "            if (is_valid_cell) :\n",
    "                search_island_tree(matrix, is_checked, row+i, col+j)\n",
    "\n",
    "#Finding number of islands\n",
    "def find_num_of_islands(matrix) :\n",
    "    rows_num = len(matrix)\n",
    "    cols_num = len(matrix[0])\n",
    "    is_checked = [ [False for x in range(cols_num)] for x in range(rows_num)]\n",
    "    count = 0\n",
    "    for  i in range(0, rows_num):\n",
    "        for  j in range(0, cols_num):\n",
    "            if (matrix[i][j] == 1 and not is_checked[i][j]) :\n",
    "                search_island_tree(matrix, is_checked, i, j)\n",
    "                count += 1\n",
    "             \n",
    "    print(\"Number of islands:\",count)\n",
    "    \n",
    "find_num_of_islands(matrix)\n"
   ]
  }
 ],
 "metadata": {
  "kernelspec": {
   "display_name": "Python 3 (ipykernel)",
   "language": "python",
   "name": "python3"
  },
  "language_info": {
   "codemirror_mode": {
    "name": "ipython",
    "version": 3
   },
   "file_extension": ".py",
   "mimetype": "text/x-python",
   "name": "python",
   "nbconvert_exporter": "python",
   "pygments_lexer": "ipython3",
   "version": "3.10.4"
  }
 },
 "nbformat": 4,
 "nbformat_minor": 5
}
