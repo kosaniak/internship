{
 "cells": [
  {
   "cell_type": "code",
   "execution_count": 1,
   "id": "b1345c4e",
   "metadata": {},
   "outputs": [
    {
     "name": "stdout",
     "output_type": "stream",
     "text": [
      "Enter a number to calculate sum: 79\n",
      "Sum of the first 79 natural numbers using formula is:  3160.0\n",
      "The time of execution of above program is : 0:00:00.000997\n"
     ]
    }
   ],
   "source": [
    "from datetime import datetime\n",
    "n = int(input(\"Enter a number to calculate sum: \"))\n",
    "start = datetime.now()\n",
    "if  n < 0:\n",
    "    print('Enter possitive number')\n",
    "elif n > 10**25:\n",
    "    print('Enter a lower number')\n",
    "else:\n",
    "    sum = n * (n+1) / 2\n",
    "    print(\"Sum of the first\",n, \"natural numbers using formula is: \", sum )\n",
    "td = datetime.now() - start\n",
    "print(f\"The time of execution of above program is :\", td)"
   ]
  }
 ],
 "metadata": {
  "kernelspec": {
   "display_name": "Python 3 (ipykernel)",
   "language": "python",
   "name": "python3"
  },
  "language_info": {
   "codemirror_mode": {
    "name": "ipython",
    "version": 3
   },
   "file_extension": ".py",
   "mimetype": "text/x-python",
   "name": "python",
   "nbconvert_exporter": "python",
   "pygments_lexer": "ipython3",
   "version": "3.10.4"
  }
 },
 "nbformat": 4,
 "nbformat_minor": 5
}
